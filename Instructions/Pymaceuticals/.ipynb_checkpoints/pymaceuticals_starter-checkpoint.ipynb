{
 "cells": [
  {
   "cell_type": "markdown",
   "metadata": {},
   "source": [
    "## Observations and Insights"
   ]
  },
  {
   "cell_type": "markdown",
   "metadata": {},
   "source": []
  },
  {
   "cell_type": "markdown",
   "metadata": {},
   "source": [
    "## Dependencies and starter code"
   ]
  },
  {
   "cell_type": "code",
   "execution_count": 1,
   "metadata": {},
   "outputs": [
    {
     "data": {
      "text/html": [
       "<div>\n",
       "<style scoped>\n",
       "    .dataframe tbody tr th:only-of-type {\n",
       "        vertical-align: middle;\n",
       "    }\n",
       "\n",
       "    .dataframe tbody tr th {\n",
       "        vertical-align: top;\n",
       "    }\n",
       "\n",
       "    .dataframe thead th {\n",
       "        text-align: right;\n",
       "    }\n",
       "</style>\n",
       "<table border=\"1\" class=\"dataframe\">\n",
       "  <thead>\n",
       "    <tr style=\"text-align: right;\">\n",
       "      <th></th>\n",
       "      <th>Mouse ID</th>\n",
       "      <th>Drug Regimen</th>\n",
       "      <th>Sex</th>\n",
       "      <th>Age_months</th>\n",
       "      <th>Weight (g)</th>\n",
       "      <th>Timepoint</th>\n",
       "      <th>Tumor Volume (mm3)</th>\n",
       "      <th>Metastatic Sites</th>\n",
       "    </tr>\n",
       "  </thead>\n",
       "  <tbody>\n",
       "    <tr>\n",
       "      <th>0</th>\n",
       "      <td>k403</td>\n",
       "      <td>Ramicane</td>\n",
       "      <td>Male</td>\n",
       "      <td>21</td>\n",
       "      <td>16</td>\n",
       "      <td>0</td>\n",
       "      <td>45.000000</td>\n",
       "      <td>0</td>\n",
       "    </tr>\n",
       "    <tr>\n",
       "      <th>1</th>\n",
       "      <td>k403</td>\n",
       "      <td>Ramicane</td>\n",
       "      <td>Male</td>\n",
       "      <td>21</td>\n",
       "      <td>16</td>\n",
       "      <td>5</td>\n",
       "      <td>38.825898</td>\n",
       "      <td>0</td>\n",
       "    </tr>\n",
       "    <tr>\n",
       "      <th>2</th>\n",
       "      <td>k403</td>\n",
       "      <td>Ramicane</td>\n",
       "      <td>Male</td>\n",
       "      <td>21</td>\n",
       "      <td>16</td>\n",
       "      <td>10</td>\n",
       "      <td>35.014271</td>\n",
       "      <td>1</td>\n",
       "    </tr>\n",
       "    <tr>\n",
       "      <th>3</th>\n",
       "      <td>k403</td>\n",
       "      <td>Ramicane</td>\n",
       "      <td>Male</td>\n",
       "      <td>21</td>\n",
       "      <td>16</td>\n",
       "      <td>15</td>\n",
       "      <td>34.223992</td>\n",
       "      <td>1</td>\n",
       "    </tr>\n",
       "    <tr>\n",
       "      <th>4</th>\n",
       "      <td>k403</td>\n",
       "      <td>Ramicane</td>\n",
       "      <td>Male</td>\n",
       "      <td>21</td>\n",
       "      <td>16</td>\n",
       "      <td>20</td>\n",
       "      <td>32.997729</td>\n",
       "      <td>1</td>\n",
       "    </tr>\n",
       "    <tr>\n",
       "      <th>5</th>\n",
       "      <td>k403</td>\n",
       "      <td>Ramicane</td>\n",
       "      <td>Male</td>\n",
       "      <td>21</td>\n",
       "      <td>16</td>\n",
       "      <td>25</td>\n",
       "      <td>33.464577</td>\n",
       "      <td>1</td>\n",
       "    </tr>\n",
       "    <tr>\n",
       "      <th>6</th>\n",
       "      <td>k403</td>\n",
       "      <td>Ramicane</td>\n",
       "      <td>Male</td>\n",
       "      <td>21</td>\n",
       "      <td>16</td>\n",
       "      <td>30</td>\n",
       "      <td>31.099498</td>\n",
       "      <td>1</td>\n",
       "    </tr>\n",
       "    <tr>\n",
       "      <th>7</th>\n",
       "      <td>k403</td>\n",
       "      <td>Ramicane</td>\n",
       "      <td>Male</td>\n",
       "      <td>21</td>\n",
       "      <td>16</td>\n",
       "      <td>35</td>\n",
       "      <td>26.546993</td>\n",
       "      <td>1</td>\n",
       "    </tr>\n",
       "    <tr>\n",
       "      <th>8</th>\n",
       "      <td>k403</td>\n",
       "      <td>Ramicane</td>\n",
       "      <td>Male</td>\n",
       "      <td>21</td>\n",
       "      <td>16</td>\n",
       "      <td>40</td>\n",
       "      <td>24.365505</td>\n",
       "      <td>1</td>\n",
       "    </tr>\n",
       "    <tr>\n",
       "      <th>9</th>\n",
       "      <td>k403</td>\n",
       "      <td>Ramicane</td>\n",
       "      <td>Male</td>\n",
       "      <td>21</td>\n",
       "      <td>16</td>\n",
       "      <td>45</td>\n",
       "      <td>22.050126</td>\n",
       "      <td>1</td>\n",
       "    </tr>\n",
       "    <tr>\n",
       "      <th>10</th>\n",
       "      <td>s185</td>\n",
       "      <td>Capomulin</td>\n",
       "      <td>Female</td>\n",
       "      <td>3</td>\n",
       "      <td>17</td>\n",
       "      <td>0</td>\n",
       "      <td>45.000000</td>\n",
       "      <td>0</td>\n",
       "    </tr>\n",
       "    <tr>\n",
       "      <th>11</th>\n",
       "      <td>s185</td>\n",
       "      <td>Capomulin</td>\n",
       "      <td>Female</td>\n",
       "      <td>3</td>\n",
       "      <td>17</td>\n",
       "      <td>5</td>\n",
       "      <td>43.878496</td>\n",
       "      <td>0</td>\n",
       "    </tr>\n",
       "    <tr>\n",
       "      <th>12</th>\n",
       "      <td>s185</td>\n",
       "      <td>Capomulin</td>\n",
       "      <td>Female</td>\n",
       "      <td>3</td>\n",
       "      <td>17</td>\n",
       "      <td>10</td>\n",
       "      <td>37.614948</td>\n",
       "      <td>0</td>\n",
       "    </tr>\n",
       "    <tr>\n",
       "      <th>13</th>\n",
       "      <td>s185</td>\n",
       "      <td>Capomulin</td>\n",
       "      <td>Female</td>\n",
       "      <td>3</td>\n",
       "      <td>17</td>\n",
       "      <td>15</td>\n",
       "      <td>38.177232</td>\n",
       "      <td>0</td>\n",
       "    </tr>\n",
       "    <tr>\n",
       "      <th>14</th>\n",
       "      <td>s185</td>\n",
       "      <td>Capomulin</td>\n",
       "      <td>Female</td>\n",
       "      <td>3</td>\n",
       "      <td>17</td>\n",
       "      <td>20</td>\n",
       "      <td>36.866876</td>\n",
       "      <td>0</td>\n",
       "    </tr>\n",
       "    <tr>\n",
       "      <th>15</th>\n",
       "      <td>s185</td>\n",
       "      <td>Capomulin</td>\n",
       "      <td>Female</td>\n",
       "      <td>3</td>\n",
       "      <td>17</td>\n",
       "      <td>25</td>\n",
       "      <td>33.949940</td>\n",
       "      <td>0</td>\n",
       "    </tr>\n",
       "    <tr>\n",
       "      <th>16</th>\n",
       "      <td>s185</td>\n",
       "      <td>Capomulin</td>\n",
       "      <td>Female</td>\n",
       "      <td>3</td>\n",
       "      <td>17</td>\n",
       "      <td>30</td>\n",
       "      <td>32.959671</td>\n",
       "      <td>1</td>\n",
       "    </tr>\n",
       "    <tr>\n",
       "      <th>17</th>\n",
       "      <td>s185</td>\n",
       "      <td>Capomulin</td>\n",
       "      <td>Female</td>\n",
       "      <td>3</td>\n",
       "      <td>17</td>\n",
       "      <td>35</td>\n",
       "      <td>28.328531</td>\n",
       "      <td>1</td>\n",
       "    </tr>\n",
       "    <tr>\n",
       "      <th>18</th>\n",
       "      <td>s185</td>\n",
       "      <td>Capomulin</td>\n",
       "      <td>Female</td>\n",
       "      <td>3</td>\n",
       "      <td>17</td>\n",
       "      <td>40</td>\n",
       "      <td>25.472143</td>\n",
       "      <td>1</td>\n",
       "    </tr>\n",
       "    <tr>\n",
       "      <th>19</th>\n",
       "      <td>s185</td>\n",
       "      <td>Capomulin</td>\n",
       "      <td>Female</td>\n",
       "      <td>3</td>\n",
       "      <td>17</td>\n",
       "      <td>45</td>\n",
       "      <td>23.343598</td>\n",
       "      <td>1</td>\n",
       "    </tr>\n",
       "  </tbody>\n",
       "</table>\n",
       "</div>"
      ],
      "text/plain": [
       "   Mouse ID Drug Regimen     Sex  Age_months  Weight (g)  Timepoint  \\\n",
       "0      k403     Ramicane    Male          21          16          0   \n",
       "1      k403     Ramicane    Male          21          16          5   \n",
       "2      k403     Ramicane    Male          21          16         10   \n",
       "3      k403     Ramicane    Male          21          16         15   \n",
       "4      k403     Ramicane    Male          21          16         20   \n",
       "5      k403     Ramicane    Male          21          16         25   \n",
       "6      k403     Ramicane    Male          21          16         30   \n",
       "7      k403     Ramicane    Male          21          16         35   \n",
       "8      k403     Ramicane    Male          21          16         40   \n",
       "9      k403     Ramicane    Male          21          16         45   \n",
       "10     s185    Capomulin  Female           3          17          0   \n",
       "11     s185    Capomulin  Female           3          17          5   \n",
       "12     s185    Capomulin  Female           3          17         10   \n",
       "13     s185    Capomulin  Female           3          17         15   \n",
       "14     s185    Capomulin  Female           3          17         20   \n",
       "15     s185    Capomulin  Female           3          17         25   \n",
       "16     s185    Capomulin  Female           3          17         30   \n",
       "17     s185    Capomulin  Female           3          17         35   \n",
       "18     s185    Capomulin  Female           3          17         40   \n",
       "19     s185    Capomulin  Female           3          17         45   \n",
       "\n",
       "    Tumor Volume (mm3)  Metastatic Sites  \n",
       "0            45.000000                 0  \n",
       "1            38.825898                 0  \n",
       "2            35.014271                 1  \n",
       "3            34.223992                 1  \n",
       "4            32.997729                 1  \n",
       "5            33.464577                 1  \n",
       "6            31.099498                 1  \n",
       "7            26.546993                 1  \n",
       "8            24.365505                 1  \n",
       "9            22.050126                 1  \n",
       "10           45.000000                 0  \n",
       "11           43.878496                 0  \n",
       "12           37.614948                 0  \n",
       "13           38.177232                 0  \n",
       "14           36.866876                 0  \n",
       "15           33.949940                 0  \n",
       "16           32.959671                 1  \n",
       "17           28.328531                 1  \n",
       "18           25.472143                 1  \n",
       "19           23.343598                 1  "
      ]
     },
     "execution_count": 1,
     "metadata": {},
     "output_type": "execute_result"
    }
   ],
   "source": [
    "# Dependencies and Setup\n",
    "import matplotlib.pyplot as plt\n",
    "import pandas as pd\n",
    "import numpy as np\n",
    "import scipy.stats as st\n",
    "from matplotlib import pyplot as plt\n",
    "from scipy.stats import linregress\n",
    "from scipy.stats import sem\n",
    "from sklearn import datasets\n",
    "\n",
    "# Study data files\n",
    "mouse_metadata = \"data/Mouse_metadata.csv\"\n",
    "study_results = \"data/Study_results.csv\"\n",
    "\n",
    "# Read the mouse data and the study results\n",
    "mouse_metadata = pd.read_csv(mouse_metadata)\n",
    "study_results = pd.read_csv(study_results)\n",
    "#\n",
    "mouse_metadata_pd = pd.DataFrame (mouse_metadata)\n",
    "study_results_pd = pd.DataFrame (study_results)\n",
    "\n",
    "# Combine the data into a single dataset\n",
    "# -------Merge two dataframes using an inner join --- merge_table = pd.merge(_pd, _pd, on=\"\")\n",
    "MergedMouse_pd = pd.merge(mouse_metadata_pd, study_results_pd, on='Mouse ID')\n",
    "MergedMouse_pd.head()"
   ]
  },
  {
   "cell_type": "code",
   "execution_count": 2,
   "metadata": {},
   "outputs": [],
   "source": [
    "## Summary statistics"
   ]
  },
  {
   "cell_type": "code",
   "execution_count": 2,
   "metadata": {},
   "outputs": [
    {
     "name": "stdout",
     "output_type": "stream",
     "text": [
      "The mean TumVol is: \n",
      " Drug Regimen\n",
      "Capomulin    40.675741\n",
      "Ceftamin     52.591172\n",
      "Infubinol    52.884795\n",
      "Ketapril     55.235638\n",
      "Naftisol     54.331565\n",
      "Placebo      54.033581\n",
      "Propriva     52.322552\n",
      "Ramicane     40.216745\n",
      "Stelasyn     54.233149\n",
      "Zoniferol    53.236507\n",
      "Name: Tumor Volume (mm3), dtype: float64\n",
      "The median TumVol is: \n",
      " Drug Regimen\n",
      "Capomulin    41.557809\n",
      "Ceftamin     51.776157\n",
      "Infubinol    51.820584\n",
      "Ketapril     53.698743\n",
      "Naftisol     52.509285\n",
      "Placebo      52.288934\n",
      "Propriva     50.854632\n",
      "Ramicane     40.673236\n",
      "Stelasyn     52.431737\n",
      "Zoniferol    51.818479\n",
      "Name: Tumor Volume (mm3), dtype: float64\n"
     ]
    }
   ],
   "source": [
    "# Generate a summary statistics table of mean, median, variance, standard deviation, and SEM \n",
    "#                                              of the tumor volume for each regimen\n",
    "#TumVol = MergedMouse_pd['Tumor Volume (mm3)']\n",
    "#TumVol\n",
    "# calculating measures of central tendency\n",
    "mean_TumVol = MergedMouse_pd.groupby(\"Drug Regimen\").mean()[\"Tumor Volume (mm3)\"]\n",
    "print(f\"The mean TumVol is: \\n {mean_TumVol}\")\n",
    "\n",
    "median_TumVol = MergedMouse_pd.groupby(\"Drug Regimen\").median()[\"Tumor Volume (mm3)\"]\n",
    "print(f\"The median TumVol is: \\n {median_TumVol}\")\n",
    "\n",
    "#mode_TumVol = MergedMouse_pd.groupby(\"Drug Regimen\").mode()[\"Tumor Volume (mm3)\"]\n",
    "#print(f\"The mode TumVol is: \\n {mode_TumVol}\")"
   ]
  },
  {
   "cell_type": "code",
   "execution_count": 3,
   "metadata": {},
   "outputs": [
    {
     "name": "stdout",
     "output_type": "stream",
     "text": [
      "The population variance is: \n",
      " Drug Regimen\n",
      "Capomulin    24.947764\n",
      "Ceftamin     39.290177\n",
      "Infubinol    43.128684\n",
      "Ketapril     68.553577\n",
      "Naftisol     66.173479\n",
      "Placebo      61.168083\n",
      "Propriva     42.351070\n",
      "Ramicane     23.486704\n",
      "Stelasyn     59.450562\n",
      "Zoniferol    48.533355\n",
      "Name: Tumor Volume (mm3), dtype: float64\n",
      "The population standard deviation is: \n",
      " Drug Regimen\n",
      "Capomulin    4.994774\n",
      "Ceftamin     6.268188\n",
      "Infubinol    6.567243\n",
      "Ketapril     8.279709\n",
      "Naftisol     8.134708\n",
      "Placebo      7.821003\n",
      "Propriva     6.507770\n",
      "Ramicane     4.846308\n",
      "Stelasyn     7.710419\n",
      "Zoniferol    6.966589\n",
      "Name: Tumor Volume (mm3), dtype: float64\n"
     ]
    }
   ],
   "source": [
    "# calculating the variance and standard deviation using the different modules\n",
    "var_TumVol = MergedMouse_pd.groupby(\"Drug Regimen\").var()[\"Tumor Volume (mm3)\"]\n",
    "print(f\"The population variance is: \\n {var_TumVol}\")\n",
    "#  = np.(TumVol,ddof = 0)\n",
    "sd_TumVol = MergedMouse_pd.groupby(\"Drug Regimen\").std()[\"Tumor Volume (mm3)\"]\n",
    "print(f\"The population standard deviation is: \\n {sd_TumVol}\")\n"
   ]
  },
  {
   "cell_type": "code",
   "execution_count": 4,
   "metadata": {},
   "outputs": [
    {
     "name": "stdout",
     "output_type": "stream",
     "text": [
      "The population SEM using the scipy.stats module is: \n",
      " Drug Regimen\n",
      "Capomulin    0.329346\n",
      "Ceftamin     0.469821\n",
      "Infubinol    0.492236\n",
      "Ketapril     0.603860\n",
      "Naftisol     0.596466\n",
      "Placebo      0.581331\n",
      "Propriva     0.512884\n",
      "Ramicane     0.320955\n",
      "Stelasyn     0.573111\n",
      "Zoniferol    0.516398\n",
      "Name: Tumor Volume (mm3), dtype: float64\n"
     ]
    }
   ],
   "source": [
    "# Calculate \"standard error on means\" or SEM\n",
    "\n",
    "semsTumVol = MergedMouse_pd.groupby(\"Drug Regimen\").sem()[\"Tumor Volume (mm3)\"]\n",
    "print(f\"The population SEM using the scipy.stats module is: \\n {semsTumVol}\")"
   ]
  },
  {
   "cell_type": "code",
   "execution_count": 5,
   "metadata": {},
   "outputs": [
    {
     "data": {
      "text/html": [
       "<div>\n",
       "<style scoped>\n",
       "    .dataframe tbody tr th:only-of-type {\n",
       "        vertical-align: middle;\n",
       "    }\n",
       "\n",
       "    .dataframe tbody tr th {\n",
       "        vertical-align: top;\n",
       "    }\n",
       "\n",
       "    .dataframe thead th {\n",
       "        text-align: right;\n",
       "    }\n",
       "</style>\n",
       "<table border=\"1\" class=\"dataframe\">\n",
       "  <thead>\n",
       "    <tr style=\"text-align: right;\">\n",
       "      <th></th>\n",
       "      <th>Tumor Volume Mean</th>\n",
       "      <th>Tumor Volume Median</th>\n",
       "      <th>Tumor Volume StdDev</th>\n",
       "      <th>Tumor Volume Variance</th>\n",
       "      <th>Tumor Volume StdErrMeans</th>\n",
       "    </tr>\n",
       "    <tr>\n",
       "      <th>Drug Regimen</th>\n",
       "      <th></th>\n",
       "      <th></th>\n",
       "      <th></th>\n",
       "      <th></th>\n",
       "      <th></th>\n",
       "    </tr>\n",
       "  </thead>\n",
       "  <tbody>\n",
       "    <tr>\n",
       "      <th>Capomulin</th>\n",
       "      <td>40.675741</td>\n",
       "      <td>41.557809</td>\n",
       "      <td>24.947764</td>\n",
       "      <td>4.994774</td>\n",
       "      <td>0.329346</td>\n",
       "    </tr>\n",
       "    <tr>\n",
       "      <th>Ceftamin</th>\n",
       "      <td>52.591172</td>\n",
       "      <td>51.776157</td>\n",
       "      <td>39.290177</td>\n",
       "      <td>6.268188</td>\n",
       "      <td>0.469821</td>\n",
       "    </tr>\n",
       "    <tr>\n",
       "      <th>Infubinol</th>\n",
       "      <td>52.884795</td>\n",
       "      <td>51.820584</td>\n",
       "      <td>43.128684</td>\n",
       "      <td>6.567243</td>\n",
       "      <td>0.492236</td>\n",
       "    </tr>\n",
       "    <tr>\n",
       "      <th>Ketapril</th>\n",
       "      <td>55.235638</td>\n",
       "      <td>53.698743</td>\n",
       "      <td>68.553577</td>\n",
       "      <td>8.279709</td>\n",
       "      <td>0.603860</td>\n",
       "    </tr>\n",
       "    <tr>\n",
       "      <th>Naftisol</th>\n",
       "      <td>54.331565</td>\n",
       "      <td>52.509285</td>\n",
       "      <td>66.173479</td>\n",
       "      <td>8.134708</td>\n",
       "      <td>0.596466</td>\n",
       "    </tr>\n",
       "    <tr>\n",
       "      <th>Placebo</th>\n",
       "      <td>54.033581</td>\n",
       "      <td>52.288934</td>\n",
       "      <td>61.168083</td>\n",
       "      <td>7.821003</td>\n",
       "      <td>0.581331</td>\n",
       "    </tr>\n",
       "    <tr>\n",
       "      <th>Propriva</th>\n",
       "      <td>52.322552</td>\n",
       "      <td>50.854632</td>\n",
       "      <td>42.351070</td>\n",
       "      <td>6.507770</td>\n",
       "      <td>0.512884</td>\n",
       "    </tr>\n",
       "    <tr>\n",
       "      <th>Ramicane</th>\n",
       "      <td>40.216745</td>\n",
       "      <td>40.673236</td>\n",
       "      <td>23.486704</td>\n",
       "      <td>4.846308</td>\n",
       "      <td>0.320955</td>\n",
       "    </tr>\n",
       "    <tr>\n",
       "      <th>Stelasyn</th>\n",
       "      <td>54.233149</td>\n",
       "      <td>52.431737</td>\n",
       "      <td>59.450562</td>\n",
       "      <td>7.710419</td>\n",
       "      <td>0.573111</td>\n",
       "    </tr>\n",
       "    <tr>\n",
       "      <th>Zoniferol</th>\n",
       "      <td>53.236507</td>\n",
       "      <td>51.818479</td>\n",
       "      <td>48.533355</td>\n",
       "      <td>6.966589</td>\n",
       "      <td>0.516398</td>\n",
       "    </tr>\n",
       "  </tbody>\n",
       "</table>\n",
       "</div>"
      ],
      "text/plain": [
       "              Tumor Volume Mean  Tumor Volume Median  Tumor Volume StdDev  \\\n",
       "Drug Regimen                                                                \n",
       "Capomulin             40.675741            41.557809            24.947764   \n",
       "Ceftamin              52.591172            51.776157            39.290177   \n",
       "Infubinol             52.884795            51.820584            43.128684   \n",
       "Ketapril              55.235638            53.698743            68.553577   \n",
       "Naftisol              54.331565            52.509285            66.173479   \n",
       "Placebo               54.033581            52.288934            61.168083   \n",
       "Propriva              52.322552            50.854632            42.351070   \n",
       "Ramicane              40.216745            40.673236            23.486704   \n",
       "Stelasyn              54.233149            52.431737            59.450562   \n",
       "Zoniferol             53.236507            51.818479            48.533355   \n",
       "\n",
       "              Tumor Volume Variance  Tumor Volume StdErrMeans  \n",
       "Drug Regimen                                                   \n",
       "Capomulin                  4.994774                  0.329346  \n",
       "Ceftamin                   6.268188                  0.469821  \n",
       "Infubinol                  6.567243                  0.492236  \n",
       "Ketapril                   8.279709                  0.603860  \n",
       "Naftisol                   8.134708                  0.596466  \n",
       "Placebo                    7.821003                  0.581331  \n",
       "Propriva                   6.507770                  0.512884  \n",
       "Ramicane                   4.846308                  0.320955  \n",
       "Stelasyn                   7.710419                  0.573111  \n",
       "Zoniferol                  6.966589                  0.516398  "
      ]
     },
     "execution_count": 5,
     "metadata": {},
     "output_type": "execute_result"
    }
   ],
   "source": [
    "# ---------------------------------Merge and Rename the values \n",
    "MrgTumRegm_pd = pd.DataFrame() #=========creates a new dataframe that's empty\n",
    "MrgTumRegm_pd = pd.merge(mean_TumVol, median_TumVol, on='Drug Regimen')\n",
    "MrgTumRegm_pd = MrgTumRegm_pd.rename(columns={\"Tumor Volume (mm3)_x\":\"Tumor Volume Mean\",\n",
    "                                              \"Tumor Volume (mm3)_y\":\"Tumor Volume Median\"})\n",
    "MrgTumRegm_pd = pd.merge(MrgTumRegm_pd, var_TumVol, on='Drug Regimen')\n",
    "MrgTumRegm_pd = pd.merge(MrgTumRegm_pd, sd_TumVol, on='Drug Regimen')\n",
    "MrgTumRegm_pd = MrgTumRegm_pd.rename(columns={\"Tumor Volume (mm3)_x\":\"Tumor Volume StdDev\",\n",
    "                                              \"Tumor Volume (mm3)_y\":\"Tumor Volume Variance\"})\n",
    "MrgTumRegm_pd = pd.merge(MrgTumRegm_pd, semsTumVol, on='Drug Regimen')\n",
    "MrgTumRegm_pd = MrgTumRegm_pd.rename(columns={\"Tumor Volume (mm3)\":\"Tumor Volume StdErrMeans\"})\n",
    "MrgTumRegm_pd"
   ]
  },
  {
   "cell_type": "code",
   "execution_count": 6,
   "metadata": {
    "scrolled": true
   },
   "outputs": [
    {
     "data": {
      "text/html": [
       "<style  type=\"text/css\" >\n",
       "</style><table id=\"T_f59539d2_5d9e_11ea_9017_507b9ddae9cd\" ><thead>    <tr>        <th class=\"blank level0\" ></th>        <th class=\"col_heading level0 col0\" >Tumor Volume Mean</th>        <th class=\"col_heading level0 col1\" >Tumor Volume Median</th>        <th class=\"col_heading level0 col2\" >Tumor Volume StdDev</th>        <th class=\"col_heading level0 col3\" >Tumor Volume Variance</th>        <th class=\"col_heading level0 col4\" >Tumor Volume StdErrMeans</th>    </tr>    <tr>        <th class=\"index_name level0\" >Drug Regimen</th>        <th class=\"blank\" ></th>        <th class=\"blank\" ></th>        <th class=\"blank\" ></th>        <th class=\"blank\" ></th>        <th class=\"blank\" ></th>    </tr></thead><tbody>\n",
       "                <tr>\n",
       "                        <th id=\"T_f59539d2_5d9e_11ea_9017_507b9ddae9cdlevel0_row0\" class=\"row_heading level0 row0\" >Capomulin</th>\n",
       "                        <td id=\"T_f59539d2_5d9e_11ea_9017_507b9ddae9cdrow0_col0\" class=\"data row0 col0\" >40.68</td>\n",
       "                        <td id=\"T_f59539d2_5d9e_11ea_9017_507b9ddae9cdrow0_col1\" class=\"data row0 col1\" >41.56</td>\n",
       "                        <td id=\"T_f59539d2_5d9e_11ea_9017_507b9ddae9cdrow0_col2\" class=\"data row0 col2\" >24.95</td>\n",
       "                        <td id=\"T_f59539d2_5d9e_11ea_9017_507b9ddae9cdrow0_col3\" class=\"data row0 col3\" >4.99</td>\n",
       "                        <td id=\"T_f59539d2_5d9e_11ea_9017_507b9ddae9cdrow0_col4\" class=\"data row0 col4\" >0.33</td>\n",
       "            </tr>\n",
       "            <tr>\n",
       "                        <th id=\"T_f59539d2_5d9e_11ea_9017_507b9ddae9cdlevel0_row1\" class=\"row_heading level0 row1\" >Ceftamin</th>\n",
       "                        <td id=\"T_f59539d2_5d9e_11ea_9017_507b9ddae9cdrow1_col0\" class=\"data row1 col0\" >52.59</td>\n",
       "                        <td id=\"T_f59539d2_5d9e_11ea_9017_507b9ddae9cdrow1_col1\" class=\"data row1 col1\" >51.78</td>\n",
       "                        <td id=\"T_f59539d2_5d9e_11ea_9017_507b9ddae9cdrow1_col2\" class=\"data row1 col2\" >39.29</td>\n",
       "                        <td id=\"T_f59539d2_5d9e_11ea_9017_507b9ddae9cdrow1_col3\" class=\"data row1 col3\" >6.27</td>\n",
       "                        <td id=\"T_f59539d2_5d9e_11ea_9017_507b9ddae9cdrow1_col4\" class=\"data row1 col4\" >0.47</td>\n",
       "            </tr>\n",
       "            <tr>\n",
       "                        <th id=\"T_f59539d2_5d9e_11ea_9017_507b9ddae9cdlevel0_row2\" class=\"row_heading level0 row2\" >Infubinol</th>\n",
       "                        <td id=\"T_f59539d2_5d9e_11ea_9017_507b9ddae9cdrow2_col0\" class=\"data row2 col0\" >52.88</td>\n",
       "                        <td id=\"T_f59539d2_5d9e_11ea_9017_507b9ddae9cdrow2_col1\" class=\"data row2 col1\" >51.82</td>\n",
       "                        <td id=\"T_f59539d2_5d9e_11ea_9017_507b9ddae9cdrow2_col2\" class=\"data row2 col2\" >43.13</td>\n",
       "                        <td id=\"T_f59539d2_5d9e_11ea_9017_507b9ddae9cdrow2_col3\" class=\"data row2 col3\" >6.57</td>\n",
       "                        <td id=\"T_f59539d2_5d9e_11ea_9017_507b9ddae9cdrow2_col4\" class=\"data row2 col4\" >0.49</td>\n",
       "            </tr>\n",
       "            <tr>\n",
       "                        <th id=\"T_f59539d2_5d9e_11ea_9017_507b9ddae9cdlevel0_row3\" class=\"row_heading level0 row3\" >Ketapril</th>\n",
       "                        <td id=\"T_f59539d2_5d9e_11ea_9017_507b9ddae9cdrow3_col0\" class=\"data row3 col0\" >55.24</td>\n",
       "                        <td id=\"T_f59539d2_5d9e_11ea_9017_507b9ddae9cdrow3_col1\" class=\"data row3 col1\" >53.70</td>\n",
       "                        <td id=\"T_f59539d2_5d9e_11ea_9017_507b9ddae9cdrow3_col2\" class=\"data row3 col2\" >68.55</td>\n",
       "                        <td id=\"T_f59539d2_5d9e_11ea_9017_507b9ddae9cdrow3_col3\" class=\"data row3 col3\" >8.28</td>\n",
       "                        <td id=\"T_f59539d2_5d9e_11ea_9017_507b9ddae9cdrow3_col4\" class=\"data row3 col4\" >0.60</td>\n",
       "            </tr>\n",
       "            <tr>\n",
       "                        <th id=\"T_f59539d2_5d9e_11ea_9017_507b9ddae9cdlevel0_row4\" class=\"row_heading level0 row4\" >Naftisol</th>\n",
       "                        <td id=\"T_f59539d2_5d9e_11ea_9017_507b9ddae9cdrow4_col0\" class=\"data row4 col0\" >54.33</td>\n",
       "                        <td id=\"T_f59539d2_5d9e_11ea_9017_507b9ddae9cdrow4_col1\" class=\"data row4 col1\" >52.51</td>\n",
       "                        <td id=\"T_f59539d2_5d9e_11ea_9017_507b9ddae9cdrow4_col2\" class=\"data row4 col2\" >66.17</td>\n",
       "                        <td id=\"T_f59539d2_5d9e_11ea_9017_507b9ddae9cdrow4_col3\" class=\"data row4 col3\" >8.13</td>\n",
       "                        <td id=\"T_f59539d2_5d9e_11ea_9017_507b9ddae9cdrow4_col4\" class=\"data row4 col4\" >0.60</td>\n",
       "            </tr>\n",
       "            <tr>\n",
       "                        <th id=\"T_f59539d2_5d9e_11ea_9017_507b9ddae9cdlevel0_row5\" class=\"row_heading level0 row5\" >Placebo</th>\n",
       "                        <td id=\"T_f59539d2_5d9e_11ea_9017_507b9ddae9cdrow5_col0\" class=\"data row5 col0\" >54.03</td>\n",
       "                        <td id=\"T_f59539d2_5d9e_11ea_9017_507b9ddae9cdrow5_col1\" class=\"data row5 col1\" >52.29</td>\n",
       "                        <td id=\"T_f59539d2_5d9e_11ea_9017_507b9ddae9cdrow5_col2\" class=\"data row5 col2\" >61.17</td>\n",
       "                        <td id=\"T_f59539d2_5d9e_11ea_9017_507b9ddae9cdrow5_col3\" class=\"data row5 col3\" >7.82</td>\n",
       "                        <td id=\"T_f59539d2_5d9e_11ea_9017_507b9ddae9cdrow5_col4\" class=\"data row5 col4\" >0.58</td>\n",
       "            </tr>\n",
       "            <tr>\n",
       "                        <th id=\"T_f59539d2_5d9e_11ea_9017_507b9ddae9cdlevel0_row6\" class=\"row_heading level0 row6\" >Propriva</th>\n",
       "                        <td id=\"T_f59539d2_5d9e_11ea_9017_507b9ddae9cdrow6_col0\" class=\"data row6 col0\" >52.32</td>\n",
       "                        <td id=\"T_f59539d2_5d9e_11ea_9017_507b9ddae9cdrow6_col1\" class=\"data row6 col1\" >50.85</td>\n",
       "                        <td id=\"T_f59539d2_5d9e_11ea_9017_507b9ddae9cdrow6_col2\" class=\"data row6 col2\" >42.35</td>\n",
       "                        <td id=\"T_f59539d2_5d9e_11ea_9017_507b9ddae9cdrow6_col3\" class=\"data row6 col3\" >6.51</td>\n",
       "                        <td id=\"T_f59539d2_5d9e_11ea_9017_507b9ddae9cdrow6_col4\" class=\"data row6 col4\" >0.51</td>\n",
       "            </tr>\n",
       "            <tr>\n",
       "                        <th id=\"T_f59539d2_5d9e_11ea_9017_507b9ddae9cdlevel0_row7\" class=\"row_heading level0 row7\" >Ramicane</th>\n",
       "                        <td id=\"T_f59539d2_5d9e_11ea_9017_507b9ddae9cdrow7_col0\" class=\"data row7 col0\" >40.22</td>\n",
       "                        <td id=\"T_f59539d2_5d9e_11ea_9017_507b9ddae9cdrow7_col1\" class=\"data row7 col1\" >40.67</td>\n",
       "                        <td id=\"T_f59539d2_5d9e_11ea_9017_507b9ddae9cdrow7_col2\" class=\"data row7 col2\" >23.49</td>\n",
       "                        <td id=\"T_f59539d2_5d9e_11ea_9017_507b9ddae9cdrow7_col3\" class=\"data row7 col3\" >4.85</td>\n",
       "                        <td id=\"T_f59539d2_5d9e_11ea_9017_507b9ddae9cdrow7_col4\" class=\"data row7 col4\" >0.32</td>\n",
       "            </tr>\n",
       "            <tr>\n",
       "                        <th id=\"T_f59539d2_5d9e_11ea_9017_507b9ddae9cdlevel0_row8\" class=\"row_heading level0 row8\" >Stelasyn</th>\n",
       "                        <td id=\"T_f59539d2_5d9e_11ea_9017_507b9ddae9cdrow8_col0\" class=\"data row8 col0\" >54.23</td>\n",
       "                        <td id=\"T_f59539d2_5d9e_11ea_9017_507b9ddae9cdrow8_col1\" class=\"data row8 col1\" >52.43</td>\n",
       "                        <td id=\"T_f59539d2_5d9e_11ea_9017_507b9ddae9cdrow8_col2\" class=\"data row8 col2\" >59.45</td>\n",
       "                        <td id=\"T_f59539d2_5d9e_11ea_9017_507b9ddae9cdrow8_col3\" class=\"data row8 col3\" >7.71</td>\n",
       "                        <td id=\"T_f59539d2_5d9e_11ea_9017_507b9ddae9cdrow8_col4\" class=\"data row8 col4\" >0.57</td>\n",
       "            </tr>\n",
       "            <tr>\n",
       "                        <th id=\"T_f59539d2_5d9e_11ea_9017_507b9ddae9cdlevel0_row9\" class=\"row_heading level0 row9\" >Zoniferol</th>\n",
       "                        <td id=\"T_f59539d2_5d9e_11ea_9017_507b9ddae9cdrow9_col0\" class=\"data row9 col0\" >53.24</td>\n",
       "                        <td id=\"T_f59539d2_5d9e_11ea_9017_507b9ddae9cdrow9_col1\" class=\"data row9 col1\" >51.82</td>\n",
       "                        <td id=\"T_f59539d2_5d9e_11ea_9017_507b9ddae9cdrow9_col2\" class=\"data row9 col2\" >48.53</td>\n",
       "                        <td id=\"T_f59539d2_5d9e_11ea_9017_507b9ddae9cdrow9_col3\" class=\"data row9 col3\" >6.97</td>\n",
       "                        <td id=\"T_f59539d2_5d9e_11ea_9017_507b9ddae9cdrow9_col4\" class=\"data row9 col4\" >0.52</td>\n",
       "            </tr>\n",
       "    </tbody></table>"
      ],
      "text/plain": [
       "<pandas.io.formats.style.Styler at 0x1c21d03f2b0>"
      ]
     },
     "execution_count": 6,
     "metadata": {},
     "output_type": "execute_result"
    }
   ],
   "source": [
    "# ------------------------display in formated style for readability -----\n",
    "MrgTumRegm_pd.style.format({'Tumor Volume Mean': \"{:.2f}\",\n",
    "                            'Tumor Volume Median': \"{:.2f}\",\n",
    "                            'Tumor Volume StdDev': \"{:.2f}\",\n",
    "                            'Tumor Volume Variance': \"{:.2f}\",\n",
    "                            'Tumor Volume StdErrMeans': \"{:.2f}\"\n",
    "                          })"
   ]
  },
  {
   "cell_type": "code",
   "execution_count": null,
   "metadata": {},
   "outputs": [],
   "source": []
  },
  {
   "cell_type": "markdown",
   "metadata": {},
   "source": [
    "## Bar plots"
   ]
  },
  {
   "cell_type": "code",
   "execution_count": 7,
   "metadata": {},
   "outputs": [
    {
     "data": {
      "text/html": [
       "<div>\n",
       "<style scoped>\n",
       "    .dataframe tbody tr th:only-of-type {\n",
       "        vertical-align: middle;\n",
       "    }\n",
       "\n",
       "    .dataframe tbody tr th {\n",
       "        vertical-align: top;\n",
       "    }\n",
       "\n",
       "    .dataframe thead th {\n",
       "        text-align: right;\n",
       "    }\n",
       "</style>\n",
       "<table border=\"1\" class=\"dataframe\">\n",
       "  <thead>\n",
       "    <tr style=\"text-align: right;\">\n",
       "      <th></th>\n",
       "      <th>RegimenCounts</th>\n",
       "    </tr>\n",
       "    <tr>\n",
       "      <th>Drug Regimen</th>\n",
       "      <th></th>\n",
       "    </tr>\n",
       "  </thead>\n",
       "  <tbody>\n",
       "    <tr>\n",
       "      <th>Capomulin</th>\n",
       "      <td>230</td>\n",
       "    </tr>\n",
       "    <tr>\n",
       "      <th>Ramicane</th>\n",
       "      <td>228</td>\n",
       "    </tr>\n",
       "    <tr>\n",
       "      <th>Ketapril</th>\n",
       "      <td>188</td>\n",
       "    </tr>\n",
       "    <tr>\n",
       "      <th>Naftisol</th>\n",
       "      <td>186</td>\n",
       "    </tr>\n",
       "    <tr>\n",
       "      <th>Zoniferol</th>\n",
       "      <td>182</td>\n",
       "    </tr>\n",
       "    <tr>\n",
       "      <th>Stelasyn</th>\n",
       "      <td>181</td>\n",
       "    </tr>\n",
       "    <tr>\n",
       "      <th>Placebo</th>\n",
       "      <td>181</td>\n",
       "    </tr>\n",
       "    <tr>\n",
       "      <th>Infubinol</th>\n",
       "      <td>178</td>\n",
       "    </tr>\n",
       "    <tr>\n",
       "      <th>Ceftamin</th>\n",
       "      <td>178</td>\n",
       "    </tr>\n",
       "    <tr>\n",
       "      <th>Propriva</th>\n",
       "      <td>161</td>\n",
       "    </tr>\n",
       "  </tbody>\n",
       "</table>\n",
       "</div>"
      ],
      "text/plain": [
       "              RegimenCounts\n",
       "Drug Regimen               \n",
       "Capomulin               230\n",
       "Ramicane                228\n",
       "Ketapril                188\n",
       "Naftisol                186\n",
       "Zoniferol               182\n",
       "Stelasyn                181\n",
       "Placebo                 181\n",
       "Infubinol               178\n",
       "Ceftamin                178\n",
       "Propriva                161"
      ]
     },
     "execution_count": 7,
     "metadata": {},
     "output_type": "execute_result"
    }
   ],
   "source": [
    "# calculating counts by regimen\n",
    "count_TumVol = MergedMouse_pd.groupby(\"Drug Regimen\").count()[\"Mouse ID\"]\n",
    "#\n",
    "SortedCntTumvol = count_TumVol.sort_values(ascending=False)\n",
    "CntTumvol_pd = pd.DataFrame(SortedCntTumvol)\n",
    "CntTumvol_pd = CntTumvol_pd.rename(columns={\"Mouse ID\":\"RegimenCounts\"})\n",
    "\n",
    "CntTumvol_pd"
   ]
  },
  {
   "cell_type": "code",
   "execution_count": 10,
   "metadata": {
    "scrolled": true
   },
   "outputs": [
    {
     "data": {
      "image/png": "[encoded data removed]",
      "text/plain": [
       "<Figure size 432x288 with 1 Axes>"
      ]
     },
     "metadata": {
      "needs_background": "light"
     },
     "output_type": "display_data"
    }
   ],
   "source": [
    "# Generate a bar plot showing number of data points for each treatment regimen using pandas\n",
    "#\n",
    "count_chart=CntTumvol_pd.plot(kind='bar', title='Data Points By Treatment Regimen')\n"
   ]
  },
  {
   "cell_type": "code",
   "execution_count": 9,
   "metadata": {},
   "outputs": [],
   "source": [
    "#\n",
    "CntTumvol_pd = CntTumvol_pd.reset_index()"
   ]
  },
  {
   "cell_type": "code",
   "execution_count": 15,
   "metadata": {},
   "outputs": [
    {
     "data": {
      "image/png": "[encoded data removed]",
      "text/plain": [
       "<Figure size 360x288 with 1 Axes>"
      ]
     },
     "metadata": {
      "needs_background": "light"
     },
     "output_type": "display_data"
    }
   ],
   "source": [
    "#  Generate a bar plot showing number of data points for each treatment regimen using pyplot\n",
    "# set x-axis and tick locations\n",
    "x_axis = np.arange(len(CntTumvol_pd))\n",
    "tick_locations = [value+0.4 for value in x_axis]    \n",
    "# set Figure\n",
    "plt.figure(figsize=(5,4))\n",
    "# build Bar Chart and display it\n",
    "plt.bar(x_axis, CntTumvol_pd[\"RegimenCounts\"], color='b', alpha=0.5, align=\"edge\")\n",
    "plt.xticks(tick_locations, CntTumvol_pd[\"Drug Regimen\"], rotation=\"vertical\")\n",
    "plt.xlim(-0.25, len(x_axis))\n",
    "plt.ylim(0, max(CntTumvol_pd[\"RegimenCounts\"])+20)\n",
    "plt.title(\"Data Points By Treatment Regimen\")\n",
    "plt.xlabel(\"Drug Regimen Employed\")\n",
    "plt.ylabel(\"Data Point Values\")\n",
    "plt.show()"
   ]
  },
  {
   "cell_type": "code",
   "execution_count": null,
   "metadata": {},
   "outputs": [],
   "source": []
  },
  {
   "cell_type": "markdown",
   "metadata": {},
   "source": [
    "## Pie plots"
   ]
  },
  {
   "cell_type": "code",
   "execution_count": 16,
   "metadata": {},
   "outputs": [
    {
     "data": {
      "text/html": [
       "<div>\n",
       "<style scoped>\n",
       "    .dataframe tbody tr th:only-of-type {\n",
       "        vertical-align: middle;\n",
       "    }\n",
       "\n",
       "    .dataframe tbody tr th {\n",
       "        vertical-align: top;\n",
       "    }\n",
       "\n",
       "    .dataframe thead th {\n",
       "        text-align: right;\n",
       "    }\n",
       "</style>\n",
       "<table border=\"1\" class=\"dataframe\">\n",
       "  <thead>\n",
       "    <tr style=\"text-align: right;\">\n",
       "      <th></th>\n",
       "      <th>% Mice By Sex</th>\n",
       "    </tr>\n",
       "    <tr>\n",
       "      <th>Sex</th>\n",
       "      <th></th>\n",
       "    </tr>\n",
       "  </thead>\n",
       "  <tbody>\n",
       "    <tr>\n",
       "      <th>Female</th>\n",
       "      <td>49.392499</td>\n",
       "    </tr>\n",
       "    <tr>\n",
       "      <th>Male</th>\n",
       "      <td>50.607501</td>\n",
       "    </tr>\n",
       "  </tbody>\n",
       "</table>\n",
       "</div>"
      ],
      "text/plain": [
       "        % Mice By Sex\n",
       "Sex                  \n",
       "Female      49.392499\n",
       "Male        50.607501"
      ]
     },
     "execution_count": 16,
     "metadata": {},
     "output_type": "execute_result"
    }
   ],
   "source": [
    "# calculating counts by sex\n",
    "count_Sex = MergedMouse_pd.groupby(\"Sex\").count()[\"Mouse ID\"]\n",
    "CntSexTot = MergedMouse_pd.count()['Sex']\n",
    "#\n",
    "SortedCntSex = count_Sex.sort_values()\n",
    "CntSex_pd = pd.DataFrame(SortedCntSex)\n",
    "CntSex_pd = CntSex_pd.rename(columns={\"Mouse ID\":\"Number Mice By Sex\"})\n",
    "PctSex = CntSex_pd['Number Mice By Sex'] / CntSexTot * 100\n",
    "#\n",
    "PctSex_pd = pd.DataFrame(PctSex)\n",
    "PctSex_pd = PctSex_pd.rename(columns={\"Number Mice By Sex\":\"% Mice By Sex\"})\n",
    "PctSex_pd\n"
   ]
  },
  {
   "cell_type": "code",
   "execution_count": 17,
   "metadata": {
    "scrolled": false
   },
   "outputs": [
    {
     "data": {
      "image/png": "[encoded data removed]",
      "text/plain": [
       "<Figure size 432x288 with 1 Axes>"
      ]
     },
     "metadata": {},
     "output_type": "display_data"
    }
   ],
   "source": [
    "# Generate a pie plot showing the distribution of female versus male mice using pandas\n",
    "#\n",
    "count_chart=PctSex_pd.plot(kind='pie', title='Proportion Of Mice By Sex', y=\"% Mice By Sex\", autopct='%.2f')"
   ]
  },
  {
   "cell_type": "code",
   "execution_count": 18,
   "metadata": {},
   "outputs": [
    {
     "data": {
      "text/html": [
       "<div>\n",
       "<style scoped>\n",
       "    .dataframe tbody tr th:only-of-type {\n",
       "        vertical-align: middle;\n",
       "    }\n",
       "\n",
       "    .dataframe tbody tr th {\n",
       "        vertical-align: top;\n",
       "    }\n",
       "\n",
       "    .dataframe thead th {\n",
       "        text-align: right;\n",
       "    }\n",
       "</style>\n",
       "<table border=\"1\" class=\"dataframe\">\n",
       "  <thead>\n",
       "    <tr style=\"text-align: right;\">\n",
       "      <th></th>\n",
       "      <th>Sex</th>\n",
       "      <th>% Mice By Sex</th>\n",
       "    </tr>\n",
       "  </thead>\n",
       "  <tbody>\n",
       "    <tr>\n",
       "      <th>0</th>\n",
       "      <td>Female</td>\n",
       "      <td>49.392499</td>\n",
       "    </tr>\n",
       "    <tr>\n",
       "      <th>1</th>\n",
       "      <td>Male</td>\n",
       "      <td>50.607501</td>\n",
       "    </tr>\n",
       "  </tbody>\n",
       "</table>\n",
       "</div>"
      ],
      "text/plain": [
       "      Sex  % Mice By Sex\n",
       "0  Female      49.392499\n",
       "1    Male      50.607501"
      ]
     },
     "execution_count": 18,
     "metadata": {},
     "output_type": "execute_result"
    }
   ],
   "source": [
    "\n",
    "PctSex_pd = PctSex_pd.reset_index()\n",
    "PctSex_pd"
   ]
  },
  {
   "cell_type": "code",
   "execution_count": 19,
   "metadata": {},
   "outputs": [
    {
     "data": {
      "image/png": "[encoded data removed]",
      "text/plain": [
       "<Figure size 576x288 with 1 Axes>"
      ]
     },
     "metadata": {},
     "output_type": "display_data"
    }
   ],
   "source": [
    "# Generate a pie plot showing the distribution of female versus male mice using pyplot\n",
    "# set x-axis and tick locations\n",
    "#x_axis = np.arange(len(CntTumvol_pd))\n",
    "#tick_locations = [value+0.4 for value in x_axis]    \n",
    "# set Figure\n",
    "plt.figure(figsize=(8,4))\n",
    "# build Pie Chart and display it\n",
    "plt.pie(PctSex_pd[\"% Mice By Sex\"], autopct='%.2f', labels=PctSex_pd[\"Sex\"])\n",
    "plt.title('Proportion Of Mice By Sex')\n",
    "plt.ylabel(\"% Mice By Sex\")\n",
    "#plt.legend(handles=PctSex_pd[['Sex']], loc=\"best\")\n",
    "plt.show()"
   ]
  },
  {
   "cell_type": "code",
   "execution_count": null,
   "metadata": {},
   "outputs": [],
   "source": []
  },
  {
   "cell_type": "markdown",
   "metadata": {},
   "source": [
    "## Quartiles, outliers and boxplots"
   ]
  },
  {
   "cell_type": "code",
   "execution_count": 27,
   "metadata": {},
   "outputs": [
    {
     "data": {
      "text/html": [
       "<div>\n",
       "<style scoped>\n",
       "    .dataframe tbody tr th:only-of-type {\n",
       "        vertical-align: middle;\n",
       "    }\n",
       "\n",
       "    .dataframe tbody tr th {\n",
       "        vertical-align: top;\n",
       "    }\n",
       "\n",
       "    .dataframe thead th {\n",
       "        text-align: right;\n",
       "    }\n",
       "</style>\n",
       "<table border=\"1\" class=\"dataframe\">\n",
       "  <thead>\n",
       "    <tr style=\"text-align: right;\">\n",
       "      <th></th>\n",
       "      <th>Tumor Volume (mm3)</th>\n",
       "    </tr>\n",
       "    <tr>\n",
       "      <th>Drug Regimen</th>\n",
       "      <th></th>\n",
       "    </tr>\n",
       "  </thead>\n",
       "  <tbody>\n",
       "    <tr>\n",
       "      <th>Ramicane</th>\n",
       "      <td>0.320955</td>\n",
       "    </tr>\n",
       "    <tr>\n",
       "      <th>Capomulin</th>\n",
       "      <td>0.329346</td>\n",
       "    </tr>\n",
       "    <tr>\n",
       "      <th>Ceftamin</th>\n",
       "      <td>0.469821</td>\n",
       "    </tr>\n",
       "    <tr>\n",
       "      <th>Infubinol</th>\n",
       "      <td>0.492236</td>\n",
       "    </tr>\n",
       "  </tbody>\n",
       "</table>\n",
       "</div>"
      ],
      "text/plain": [
       "              Tumor Volume (mm3)\n",
       "Drug Regimen                    \n",
       "Ramicane                0.320955\n",
       "Capomulin               0.329346\n",
       "Ceftamin                0.469821\n",
       "Infubinol               0.492236"
      ]
     },
     "execution_count": 27,
     "metadata": {},
     "output_type": "execute_result"
    }
   ],
   "source": [
    "# Calculate the final tumor volume of each mouse across \n",
    "#        four of the most promising treatment regimens.   \n",
    "SemsTumvol_pd = pd.DataFrame(semsTumVol)\n",
    "SemsTumvol_pd = SemsTumvol_pd.sort_values(['Tumor Volume (mm3)'],ascending=True)\n",
    "\n",
    "SemsTumvol_pd.head(4)\n"
   ]
  },
  {
   "cell_type": "code",
   "execution_count": 39,
   "metadata": {},
   "outputs": [
    {
     "data": {
      "text/html": [
       "<div>\n",
       "<style scoped>\n",
       "    .dataframe tbody tr th:only-of-type {\n",
       "        vertical-align: middle;\n",
       "    }\n",
       "\n",
       "    .dataframe tbody tr th {\n",
       "        vertical-align: top;\n",
       "    }\n",
       "\n",
       "    .dataframe thead th {\n",
       "        text-align: right;\n",
       "    }\n",
       "</style>\n",
       "<table border=\"1\" class=\"dataframe\">\n",
       "  <thead>\n",
       "    <tr style=\"text-align: right;\">\n",
       "      <th></th>\n",
       "      <th>Mouse ID</th>\n",
       "      <th>Timepoint</th>\n",
       "      <th>Drug Regimen</th>\n",
       "      <th>Sex</th>\n",
       "      <th>Age_months</th>\n",
       "      <th>Weight (g)</th>\n",
       "      <th>Tumor Volume (mm3)</th>\n",
       "      <th>Metastatic Sites</th>\n",
       "    </tr>\n",
       "  </thead>\n",
       "  <tbody>\n",
       "    <tr>\n",
       "      <th>0</th>\n",
       "      <td>a203</td>\n",
       "      <td>45</td>\n",
       "      <td>Infubinol</td>\n",
       "      <td>Female</td>\n",
       "      <td>20</td>\n",
       "      <td>23</td>\n",
       "      <td>67.973419</td>\n",
       "      <td>2</td>\n",
       "    </tr>\n",
       "    <tr>\n",
       "      <th>1</th>\n",
       "      <td>a251</td>\n",
       "      <td>45</td>\n",
       "      <td>Infubinol</td>\n",
       "      <td>Female</td>\n",
       "      <td>21</td>\n",
       "      <td>25</td>\n",
       "      <td>65.525743</td>\n",
       "      <td>1</td>\n",
       "    </tr>\n",
       "    <tr>\n",
       "      <th>2</th>\n",
       "      <td>a262</td>\n",
       "      <td>45</td>\n",
       "      <td>Placebo</td>\n",
       "      <td>Female</td>\n",
       "      <td>17</td>\n",
       "      <td>29</td>\n",
       "      <td>70.717621</td>\n",
       "      <td>4</td>\n",
       "    </tr>\n",
       "    <tr>\n",
       "      <th>3</th>\n",
       "      <td>a275</td>\n",
       "      <td>45</td>\n",
       "      <td>Ceftamin</td>\n",
       "      <td>Female</td>\n",
       "      <td>20</td>\n",
       "      <td>28</td>\n",
       "      <td>62.999356</td>\n",
       "      <td>3</td>\n",
       "    </tr>\n",
       "    <tr>\n",
       "      <th>4</th>\n",
       "      <td>a366</td>\n",
       "      <td>30</td>\n",
       "      <td>Stelasyn</td>\n",
       "      <td>Female</td>\n",
       "      <td>16</td>\n",
       "      <td>29</td>\n",
       "      <td>63.440686</td>\n",
       "      <td>1</td>\n",
       "    </tr>\n",
       "  </tbody>\n",
       "</table>\n",
       "</div>"
      ],
      "text/plain": [
       "  Mouse ID  Timepoint Drug Regimen     Sex  Age_months  Weight (g)  \\\n",
       "0     a203         45    Infubinol  Female          20          23   \n",
       "1     a251         45    Infubinol  Female          21          25   \n",
       "2     a262         45      Placebo  Female          17          29   \n",
       "3     a275         45     Ceftamin  Female          20          28   \n",
       "4     a366         30     Stelasyn  Female          16          29   \n",
       "\n",
       "   Tumor Volume (mm3)  Metastatic Sites  \n",
       "0           67.973419                 2  \n",
       "1           65.525743                 1  \n",
       "2           70.717621                 4  \n",
       "3           62.999356                 3  \n",
       "4           63.440686                 1  "
      ]
     },
     "execution_count": 39,
     "metadata": {},
     "output_type": "execute_result"
    }
   ],
   "source": [
    "# Calc the timepoint by mouse     MergedMouse_pd\n",
    "MouseTimept_pd = MergedMouse_pd.groupby([\"Mouse ID\"])[\"Timepoint\"].max()\n",
    "MouseTimept_pd = MouseTimept_pd.reset_index()\n",
    "# Merge TimePoint by mouse id to Mouse dtls\n",
    "MergeInfo_pd = MouseTimept_pd[['Mouse ID', 'Timepoint']].merge(MergedMouse_pd, \n",
    "                                            on=['Mouse ID', 'Timepoint'], how='left')\n",
    "MergeInfo_pd.head()\n"
   ]
  },
  {
   "cell_type": "code",
   "execution_count": 48,
   "metadata": {},
   "outputs": [
    {
     "data": {
      "text/plain": [
       "6     38.407618\n",
       "7     43.047543\n",
       "10    38.810366\n",
       "12    32.978522\n",
       "33    38.342008\n",
       "Name: Tumor Volume (mm3), dtype: float64"
      ]
     },
     "execution_count": 48,
     "metadata": {},
     "output_type": "execute_result"
    }
   ],
   "source": [
    "Ramicane = MergeInfo_pd.loc[MergeInfo_pd['Drug Regimen'] == 'Ramicane']['Tumor Volume (mm3)']\n",
    "Ramicane.head()"
   ]
  },
  {
   "cell_type": "code",
   "execution_count": 49,
   "metadata": {},
   "outputs": [
    {
     "data": {
      "text/plain": [
       "19    38.982878\n",
       "24    38.939633\n",
       "61    30.485985\n",
       "64    37.074024\n",
       "66    40.159220\n",
       "Name: Tumor Volume (mm3), dtype: float64"
      ]
     },
     "execution_count": 49,
     "metadata": {},
     "output_type": "execute_result"
    }
   ],
   "source": [
    "Capomulin = MergeInfo_pd.loc[MergeInfo_pd['Drug Regimen'] == 'Capomulin']['Tumor Volume (mm3)']\n",
    "Capomulin.head()"
   ]
  },
  {
   "cell_type": "code",
   "execution_count": 50,
   "metadata": {},
   "outputs": [
    {
     "data": {
      "text/plain": [
       "3     62.999356\n",
       "21    45.000000\n",
       "22    56.057749\n",
       "25    55.742829\n",
       "58    48.722078\n",
       "Name: Tumor Volume (mm3), dtype: float64"
      ]
     },
     "execution_count": 50,
     "metadata": {},
     "output_type": "execute_result"
    }
   ],
   "source": [
    "Ceftamin = MergeInfo_pd.loc[MergeInfo_pd['Drug Regimen'] == 'Ceftamin']['Tumor Volume (mm3)']\n",
    "Ceftamin.head()"
   ]
  },
  {
   "cell_type": "code",
   "execution_count": 59,
   "metadata": {},
   "outputs": [
    {
     "data": {
      "text/plain": [
       "0     67.973419\n",
       "1     65.525743\n",
       "11    57.031862\n",
       "13    66.083066\n",
       "27    72.226731\n",
       "Name: Tumor Volume (mm3), dtype: float64"
      ]
     },
     "execution_count": 59,
     "metadata": {},
     "output_type": "execute_result"
    }
   ],
   "source": [
    "Infubinol = MergeInfo_pd.loc[MergeInfo_pd['Drug Regimen'] == 'Infubinol']['Tumor Volume (mm3)']\n",
    "Infubinol.head()"
   ]
  },
  {
   "cell_type": "code",
   "execution_count": null,
   "metadata": {},
   "outputs": [],
   "source": [
    "#      Calculate the IQR and quantitatively determine if there are any potential outliers."
   ]
  },
  {
   "cell_type": "code",
   "execution_count": 56,
   "metadata": {},
   "outputs": [
    {
     "data": {
      "text/plain": [
       "9.098536719999998"
      ]
     },
     "execution_count": 56,
     "metadata": {},
     "output_type": "execute_result"
    }
   ],
   "source": [
    "# calc the Ramicane Quartiles and IQR...\n",
    "RamiQuartiles = Ramicane.quantile([.25,.5,.75])\n",
    "RamiLowQ = RamiQuartiles[0.25]\n",
    "RamiUprQ = RamiQuartiles[0.75]\n",
    "RamiIqr = RamiUprQ - RamiLowQ\n",
    "#RamiIqr\n",
    "#RamiQuartiles"
   ]
  },
  {
   "cell_type": "code",
   "execution_count": 55,
   "metadata": {},
   "outputs": [
    {
     "data": {
      "text/plain": [
       "7.781863460000004"
      ]
     },
     "execution_count": 55,
     "metadata": {},
     "output_type": "execute_result"
    }
   ],
   "source": [
    "# calc the Capomulin Quartiles and IQR...\n",
    "CapoQuartiles = Capomulin.quantile([.25,.5,.75])\n",
    "CapoLowQ = CapoQuartiles[0.25]\n",
    "CapoUprQ = CapoQuartiles[0.75]\n",
    "CapoIqr = CapoUprQ - CapoLowQ\n",
    "#CapoIqr\n",
    "#CapoQuartiles"
   ]
  },
  {
   "cell_type": "code",
   "execution_count": 57,
   "metadata": {},
   "outputs": [
    {
     "data": {
      "text/plain": [
       "0.25    48.722078\n",
       "0.50    59.851956\n",
       "0.75    64.299830\n",
       "Name: Tumor Volume (mm3), dtype: float64"
      ]
     },
     "execution_count": 57,
     "metadata": {},
     "output_type": "execute_result"
    }
   ],
   "source": [
    "# calc the Ceftamin Quartiles and IQR...\n",
    "CeftQuartiles = Ceftamin.quantile([.25,.5,.75])\n",
    "CeftLowQ = CeftQuartiles[0.25]\n",
    "CeftUprQ = CeftQuartiles[0.75]\n",
    "CeftIqr = CeftUprQ - CeftLowQ\n",
    "#CeftIqr\n",
    "CeftQuartiles"
   ]
  },
  {
   "cell_type": "code",
   "execution_count": 60,
   "metadata": {},
   "outputs": [
    {
     "data": {
      "text/plain": [
       "0.25    54.048608\n",
       "0.50    60.165180\n",
       "0.75    65.525743\n",
       "Name: Tumor Volume (mm3), dtype: float64"
      ]
     },
     "execution_count": 60,
     "metadata": {},
     "output_type": "execute_result"
    }
   ],
   "source": [
    "# calc the Infubinol Quartiles and IQR...\n",
    "InfuQuartiles = Infubinol.quantile([.25,.5,.75])\n",
    "InfuLowQ = InfuQuartiles[0.25]\n",
    "InfuUprQ = InfuQuartiles[0.75]\n",
    "InfuIqr = InfuUprQ - InfuLowQ\n",
    "#InfuIqr\n",
    "InfuQuartiles"
   ]
  },
  {
   "cell_type": "code",
   "execution_count": 61,
   "metadata": {},
   "outputs": [
    {
     "data": {
      "image/png": "[encoded data removed]",
      "text/plain": [
       "<Figure size 432x288 with 1 Axes>"
      ]
     },
     "metadata": {
      "needs_background": "light"
     },
     "output_type": "display_data"
    }
   ],
   "source": [
    "# Generate a box plot of the final tumor volume of each mouse across four regimens of interest\n",
    "Top4Fig,Top4Ax = plt.subplots()\n",
    "Top4Ax.boxplot([RamiQuartiles, CapoQuartiles, CeftQuartiles, InfuQuartiles])\n",
    "plt.xlabel('Quartiles')\n",
    "plt.ylabel('Top 4 Drug Regimens')\n",
    "plt.title('Top 4 Drug Quartiles')\n",
    "plt.show()"
   ]
  },
  {
   "cell_type": "markdown",
   "metadata": {},
   "source": [
    "## Line and scatter plots"
   ]
  },
  {
   "cell_type": "code",
   "execution_count": 64,
   "metadata": {},
   "outputs": [
    {
     "data": {
      "image/png": "[encoded data removed]",
      "text/plain": [
       "<Figure size 432x288 with 1 Axes>"
      ]
     },
     "metadata": {
      "needs_background": "light"
     },
     "output_type": "display_data"
    }
   ],
   "source": [
    "# Generate a line plot of time point versus tumor volume for a mouse treated with Capomulin\n",
    "CapoMrg = MergedMouse_pd.loc[MergedMouse_pd['Drug Regimen'] == 'Capomulin']\n",
    "CapoMouse = CapoMrg.loc[CapoMrg['Mouse ID'] == 's185'] \n",
    "plt.plot(CapoMouse['Timepoint'], CapoMouse['Tumor Volume (mm3)']) \n",
    "plt.xlabel('Timepoint')\n",
    "plt.ylabel('Tumor Volume (mm3)') \n",
    "plt.title('Mouse Data for Capomulin')\n",
    "plt.show()"
   ]
  },
  {
   "cell_type": "code",
   "execution_count": 65,
   "metadata": {},
   "outputs": [
    {
     "data": {
      "image/png": "[encoded data removed]",
      "text/plain": [
       "<Figure size 432x288 with 1 Axes>"
      ]
     },
     "metadata": {
      "needs_background": "light"
     },
     "output_type": "display_data"
    }
   ],
   "source": [
    "# Generate a scatter plot of mouse weight versus average tumor volume for the Capomulin regimen\n",
    "#         CapoMrg calculated above\n",
    "CapoAve = CapoMrg.groupby(['Mouse ID']).mean()\n",
    "plt.scatter(CapoAve['Weight (g)'], CapoAve['Tumor Volume (mm3)']) \n",
    "plt.xlabel('Weight (g)')\n",
    "plt.ylabel('Tumor Volume (mm3)') \n",
    "plt.title('Capomulin Efficacy by Weight')\n",
    "plt.show()"
   ]
  },
  {
   "cell_type": "code",
   "execution_count": 90,
   "metadata": {},
   "outputs": [
    {
     "name": "stdout",
     "output_type": "stream",
     "text": [
      "For the Capomulin Regimen, the Calculated Correlation Value is 0.84\n"
     ]
    }
   ],
   "source": [
    "# Calculate the correlation coefficient \n",
    "#   and linear regression model for mouse weight \n",
    "#                                        and average tumor volume for the Capomulin regimen\n",
    "CapoCorrelation = st.pearsonr(CapoAve['Weight (g)'], CapoAve['Tumor Volume (mm3)'])[0],2\n",
    "print (f\"For the Capomulin Regimen, the Calculated Correlation Value is {CapoCorrelation[0]:.2f}\")\n",
    "CapoModel = st.linregress(CapoAve['Weight (g)'], CapoAve['Tumor Volume (mm3)'])#CapoModel\n",
    "#CapoModel\n",
    "Yval = CapoAve['Weight (g)'] * CapoModel[0] + CapoModel[1]"
   ]
  },
  {
   "cell_type": "code",
   "execution_count": 81,
   "metadata": {},
   "outputs": [
    {
     "data": {
      "image/png": "[encoded data removed]",
      "text/plain": [
       "<Figure size 432x288 with 1 Axes>"
      ]
     },
     "metadata": {
      "needs_background": "light"
     },
     "output_type": "display_data"
    }
   ],
   "source": [
    "plt.scatter(CapoAve['Weight (g)'], CapoAve['Tumor Volume (mm3)']) \n",
    "plt.plot(CapoAve['Weight (g)'], Yval, color = 'red')\n",
    "plt.xlabel('Capomulin Mouse Weight (g)')\n",
    "plt.ylabel('Capomulin Ave Tumor Volume (mm3)') \n",
    "plt.title('Correlated Mouse Weight and Tumor Size using Capomulin')\n",
    "plt.show()    "
   ]
  }
 ],
 "metadata": {
  "anaconda-cloud": {},
  "kernelspec": {
   "display_name": "Python [conda env:PythonData] *",
   "language": "python",
   "name": "conda-env-PythonData-py"
  },
  "language_info": {
   "codemirror_mode": {
    "name": "ipython",
    "version": 3
   },
   "file_extension": ".py",
   "mimetype": "text/x-python",
   "name": "python",
   "nbconvert_exporter": "python",
   "pygments_lexer": "ipython3",
   "version": "3.6.10"
  }
 },
 "nbformat": 4,
 "nbformat_minor": 2
}
